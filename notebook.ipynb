{
 "cells": [
  {
   "cell_type": "markdown",
   "metadata": {},
   "source": [
    "## Open Weather Map API\n",
    "\n",
    "Purpose is to retrieve data from Open Weather Map API (https://openweathermap.org/api/one-call-3#start) for building Ciampino Digital Model and getting weather data for it."
   ]
  },
  {
   "cell_type": "markdown",
   "metadata": {},
   "source": [
    "### Setting API Key\n",
    "\n",
    "Here is reported API Key for performing calls."
   ]
  },
  {
   "cell_type": "code",
   "execution_count": 1,
   "metadata": {},
   "outputs": [],
   "source": [
    "API_KEY = '997b847a9ed5dda58598e1f0015be1e6'\n",
    "CITY = 'Ciampino,Lazio,IT'"
   ]
  },
  {
   "cell_type": "markdown",
   "metadata": {},
   "source": [
    "Then, it's used Geocoding API from Open Weather Map to retrieve latitude and longitude of inspected city, which is Ciampino.\n",
    "But first, import all necessary libraries."
   ]
  },
  {
   "cell_type": "code",
   "execution_count": 2,
   "metadata": {},
   "outputs": [],
   "source": [
    "import requests\n",
    "import datetime\n",
    "import pandas as pd"
   ]
  },
  {
   "cell_type": "code",
   "execution_count": 3,
   "metadata": {},
   "outputs": [],
   "source": [
    "# Geocoding API Url\n",
    "\n",
    "def geocode_city():\n",
    "    return f'http://api.openweathermap.org/geo/1.0/direct?q={CITY}&limit=5&appid={API_KEY}'"
   ]
  },
  {
   "cell_type": "code",
   "execution_count": 4,
   "metadata": {},
   "outputs": [],
   "source": [
    "# Data retrieved from Geocoding API url and then latitude and longitude stored\n",
    "def get_city_data():\n",
    "    res = requests.get(geocode_city()).json()\n",
    "    return {'lat': res[0]['lat'], 'lon': res[0]['lon']}\n",
    "\n",
    "city_lat = get_city_data()['lat']\n",
    "city_lon = get_city_data()['lon']"
   ]
  },
  {
   "cell_type": "markdown",
   "metadata": {},
   "source": [
    "Now it's possible to make first call with Open Weather Map API for weather."
   ]
  },
  {
   "cell_type": "code",
   "execution_count": 5,
   "metadata": {},
   "outputs": [],
   "source": [
    "def get_weather_data(url):\n",
    "    return requests.get(url).json()"
   ]
  },
  {
   "cell_type": "code",
   "execution_count": 7,
   "metadata": {},
   "outputs": [
    {
     "name": "stdout",
     "output_type": "stream",
     "text": [
      "{'coord': {'lon': 12.6005, 'lat': 41.8003}, 'weather': [{'id': 800, 'main': 'Clear', 'description': 'clear sky', 'icon': '01n'}], 'base': 'stations', 'main': {'temp': 11.75, 'feels_like': 10.76, 'temp_min': 10.5, 'temp_max': 12.88, 'pressure': 1024, 'humidity': 68, 'sea_level': 1024, 'grnd_level': 1007}, 'visibility': 10000, 'wind': {'speed': 1.54, 'deg': 60}, 'clouds': {'all': 0}, 'dt': 1735402101, 'sys': {'type': 1, 'id': 6792, 'country': 'IT', 'sunrise': 1735367781, 'sunset': 1735400758}, 'timezone': 3600, 'id': 3178738, 'name': 'Ciampino', 'cod': 200}\n"
     ]
    }
   ],
   "source": [
    "# API for Current Weather Data ONLY!\n",
    "url_curr_weather_api = f'https://api.openweathermap.org/data/2.5/weather?lat={city_lat}&lon={city_lon}&&appid={API_KEY}&units=metric'\n",
    "print(get_weather_data(url_curr_weather_api))"
   ]
  },
  {
   "cell_type": "code",
   "execution_count": 6,
   "metadata": {},
   "outputs": [],
   "source": [
    "from datetime import datetime\n",
    "# Re-elaborate data from API response for setting correct date (not Unix timestamps)\n",
    "def set_date(url: str):\n",
    "    data = get_weather_data(url)\n",
    "    print(data, type(data))\n",
    "    if 'dt' in data:\n",
    "        data['dt'] = datetime.fromtimestamp(data['dt']).strftime('%Y-%m-%d %H:%M:%S')\n",
    "    if 'sys' in data:\n",
    "        data['sys']['sunrise'] = datetime.fromtimestamp(data['sys']['sunrise']).strftime('%Y-%m-%d %H:%M:%S')\n",
    "        data['sys']['sunset'] = datetime.fromtimestamp(data['sys']['sunset']).strftime('%Y-%m-%d %H:%M:%S')\n",
    "    return data"
   ]
  },
  {
   "cell_type": "code",
   "execution_count": 9,
   "metadata": {},
   "outputs": [
    {
     "name": "stdout",
     "output_type": "stream",
     "text": [
      "{'coord': {'lon': 12.6005, 'lat': 41.8003}, 'weather': [{'id': 800, 'main': 'Clear', 'description': 'clear sky', 'icon': '01n'}], 'base': 'stations', 'main': {'temp': 11.75, 'feels_like': 10.76, 'temp_min': 10.5, 'temp_max': 12.88, 'pressure': 1024, 'humidity': 68, 'sea_level': 1024, 'grnd_level': 1007}, 'visibility': 10000, 'wind': {'speed': 1.54, 'deg': 60}, 'clouds': {'all': 0}, 'dt': '2024-12-28 17:08:21', 'sys': {'type': 1, 'id': 6792, 'country': 'IT', 'sunrise': '2024-12-28 07:36:21', 'sunset': '2024-12-28 16:45:58'}, 'timezone': 3600, 'id': 3178738, 'name': 'Ciampino', 'cod': 200}\n"
     ]
    }
   ],
   "source": [
    "print(set_date(url_curr_weather_api))"
   ]
  },
  {
   "cell_type": "code",
   "execution_count": 7,
   "metadata": {},
   "outputs": [],
   "source": [
    "from datetime import timedelta\n",
    "\n",
    "def increase_date(start_date: int, limit_date: int, increment_days: int):\n",
    "    # Convert human date in timestamps for starting and limit date\n",
    "    # Return the incremented date when both are known, else returns start or limit date\n",
    "    new_date: int\n",
    "    if limit_date:\n",
    "        if start_date < limit_date:\n",
    "            new_date = increase_unix_timestamp(start_date, increment_days)\n",
    "            return new_date\n",
    "        else:\n",
    "            return limit_date\n",
    "    else:\n",
    "        return start_date\n",
    "\n",
    "def date_str_to_unix_timestamp(date_str: str):\n",
    "    # Convert the string date to a datetime object\n",
    "    return int(datetime.strptime(date_str, '%Y-%m-%d').timestamp())\n",
    "\n",
    "def increase_unix_timestamp(unix_timestamp, days):\n",
    "    # Convert Unix timestamp to datetime\n",
    "    # Add days and then convert datetime object in timestamp\n",
    "    dt = datetime.fromtimestamp(unix_timestamp)\n",
    "    new_dt = dt + timedelta(days=days)\n",
    "    return int(new_dt.timestamp())\n",
    "\n",
    "def unix_to_date(unix_timestamp):\n",
    "    # Convert Unix timestamp to datetime object\n",
    "    # Format the datetime object as 'YYYY-MM-DD'\n",
    "    return datetime.fromtimestamp(unix_timestamp).strftime('%Y-%m-%d')"
   ]
  },
  {
   "cell_type": "code",
   "execution_count": 8,
   "metadata": {},
   "outputs": [],
   "source": [
    "from pandas import DataFrame\n",
    "\n",
    "def map_dataframe(data):\n",
    "    return DataFrame({\n",
    "        'date': [data['date']],\n",
    "        'tz': [data['tz']],\n",
    "        'lat': [data['lat']],\n",
    "        'lon': [data['lon']],\n",
    "        'temp_min': [data['temperature']['min']],\n",
    "        'temp_max': [data['temperature']['max']],\n",
    "        'temp_1200': [data['temperature']['afternoon']],\n",
    "        'temp_0000': [data['temperature']['night']],\n",
    "        'temp_1800': [data['temperature']['evening']],\n",
    "        'temp_0600': [data['temperature']['morning']],\n",
    "        'cloud_cover': [data['cloud_cover']['afternoon']],\n",
    "        'humidity': [data['humidity']['afternoon']],\n",
    "        'precipitation_tot': [data['precipitation']['total']],\n",
    "        'pressure': [data['pressure']['afternoon']],\n",
    "        'wind_max_speed': [data['wind']['max']['speed']],\n",
    "        'wind_direction': [data['wind']['max']['direction']],\n",
    "    })"
   ]
  },
  {
   "cell_type": "code",
   "execution_count": 9,
   "metadata": {},
   "outputs": [],
   "source": [
    "# https://openweathermap.org/api/one-call-3#history_daily_aggregation\n",
    "\n",
    "def get_info(start_date: str, limit_date: str, increment_days: int):\n",
    "    start_date_unix = date_str_to_unix_timestamp(start_date)\n",
    "    limit_date_unix = date_str_to_unix_timestamp(limit_date)\n",
    "    data_list = []  # Store data to append later\n",
    "    while start_date_unix <= limit_date_unix:\n",
    "        new_date = increase_date(start_date_unix, limit_date_unix, increment_days)\n",
    "        new_date = unix_to_date(new_date)\n",
    "        weather_data = set_date(f'https://api.openweathermap.org/data/3.0/onecall/day_summary?lat={city_lat}&lon={city_lon}&date={new_date}&appid={API_KEY}&units=metric')\n",
    "        # Map data and collect it\n",
    "        mapped_data = map_dataframe(weather_data)\n",
    "        data_list.append(mapped_data)\n",
    "        \n",
    "        # Update start_date_unix to avoid infinite loop\n",
    "        start_date_unix = date_str_to_unix_timestamp(new_date)\n",
    "    return pd.concat(data_list, ignore_index=True)"
   ]
  },
  {
   "cell_type": "code",
   "execution_count": 15,
   "metadata": {},
   "outputs": [
    {
     "name": "stdout",
     "output_type": "stream",
     "text": [
      "{'cod': 429, 'message': 'Your account is temporary blocked due to exceeding of requests limitation of your subscription type. Please choose the proper subscription https://openweathermap.org/price'} <class 'dict'>\n"
     ]
    },
    {
     "ename": "KeyError",
     "evalue": "'date'",
     "output_type": "error",
     "traceback": [
      "\u001b[1;31m---------------------------------------------------------------------------\u001b[0m",
      "\u001b[1;31mKeyError\u001b[0m                                  Traceback (most recent call last)",
      "Cell \u001b[1;32mIn[15], line 11\u001b[0m\n\u001b[0;32m      8\u001b[0m         \u001b[38;5;28mprint\u001b[39m(\u001b[38;5;124m'\u001b[39m\u001b[38;5;124mSomething is wrong\u001b[39m\u001b[38;5;124m'\u001b[39m)\n\u001b[0;32m     10\u001b[0m df \u001b[38;5;241m=\u001b[39m pd\u001b[38;5;241m.\u001b[39mDataFrame()\n\u001b[1;32m---> 11\u001b[0m df \u001b[38;5;241m=\u001b[39m \u001b[43mget_info\u001b[49m\u001b[43m(\u001b[49m\u001b[38;5;124;43m'\u001b[39;49m\u001b[38;5;124;43m2011-12-31\u001b[39;49m\u001b[38;5;124;43m'\u001b[39;49m\u001b[43m,\u001b[49m\u001b[43m \u001b[49m\u001b[38;5;124;43m'\u001b[39;49m\u001b[38;5;124;43m2012-12-31\u001b[39;49m\u001b[38;5;124;43m'\u001b[39;49m\u001b[43m,\u001b[49m\u001b[43m \u001b[49m\u001b[38;5;241;43m1\u001b[39;49m\u001b[43m)\u001b[49m\n\u001b[0;32m     12\u001b[0m save_yearly_df(df, \u001b[38;5;124m'\u001b[39m\u001b[38;5;124m2012\u001b[39m\u001b[38;5;124m'\u001b[39m)\n",
      "Cell \u001b[1;32mIn[9], line 12\u001b[0m, in \u001b[0;36mget_info\u001b[1;34m(start_date, limit_date, increment_days)\u001b[0m\n\u001b[0;32m     10\u001b[0m weather_data \u001b[38;5;241m=\u001b[39m set_date(\u001b[38;5;124mf\u001b[39m\u001b[38;5;124m'\u001b[39m\u001b[38;5;124mhttps://api.openweathermap.org/data/3.0/onecall/day_summary?lat=\u001b[39m\u001b[38;5;132;01m{\u001b[39;00mcity_lat\u001b[38;5;132;01m}\u001b[39;00m\u001b[38;5;124m&lon=\u001b[39m\u001b[38;5;132;01m{\u001b[39;00mcity_lon\u001b[38;5;132;01m}\u001b[39;00m\u001b[38;5;124m&date=\u001b[39m\u001b[38;5;132;01m{\u001b[39;00mnew_date\u001b[38;5;132;01m}\u001b[39;00m\u001b[38;5;124m&appid=\u001b[39m\u001b[38;5;132;01m{\u001b[39;00mAPI_KEY\u001b[38;5;132;01m}\u001b[39;00m\u001b[38;5;124m&units=metric\u001b[39m\u001b[38;5;124m'\u001b[39m)\n\u001b[0;32m     11\u001b[0m \u001b[38;5;66;03m# Map data and collect it\u001b[39;00m\n\u001b[1;32m---> 12\u001b[0m mapped_data \u001b[38;5;241m=\u001b[39m \u001b[43mmap_dataframe\u001b[49m\u001b[43m(\u001b[49m\u001b[43mweather_data\u001b[49m\u001b[43m)\u001b[49m\n\u001b[0;32m     13\u001b[0m data_list\u001b[38;5;241m.\u001b[39mappend(mapped_data)\n\u001b[0;32m     15\u001b[0m \u001b[38;5;66;03m# Update start_date_unix to avoid infinite loop\u001b[39;00m\n",
      "Cell \u001b[1;32mIn[8], line 5\u001b[0m, in \u001b[0;36mmap_dataframe\u001b[1;34m(data)\u001b[0m\n\u001b[0;32m      3\u001b[0m \u001b[38;5;28;01mdef\u001b[39;00m \u001b[38;5;21mmap_dataframe\u001b[39m(data):\n\u001b[0;32m      4\u001b[0m     \u001b[38;5;28;01mreturn\u001b[39;00m DataFrame({\n\u001b[1;32m----> 5\u001b[0m         \u001b[38;5;124m'\u001b[39m\u001b[38;5;124mdate\u001b[39m\u001b[38;5;124m'\u001b[39m: [\u001b[43mdata\u001b[49m\u001b[43m[\u001b[49m\u001b[38;5;124;43m'\u001b[39;49m\u001b[38;5;124;43mdate\u001b[39;49m\u001b[38;5;124;43m'\u001b[39;49m\u001b[43m]\u001b[49m],\n\u001b[0;32m      6\u001b[0m         \u001b[38;5;124m'\u001b[39m\u001b[38;5;124mtz\u001b[39m\u001b[38;5;124m'\u001b[39m: [data[\u001b[38;5;124m'\u001b[39m\u001b[38;5;124mtz\u001b[39m\u001b[38;5;124m'\u001b[39m]],\n\u001b[0;32m      7\u001b[0m         \u001b[38;5;124m'\u001b[39m\u001b[38;5;124mlat\u001b[39m\u001b[38;5;124m'\u001b[39m: [data[\u001b[38;5;124m'\u001b[39m\u001b[38;5;124mlat\u001b[39m\u001b[38;5;124m'\u001b[39m]],\n\u001b[0;32m      8\u001b[0m         \u001b[38;5;124m'\u001b[39m\u001b[38;5;124mlon\u001b[39m\u001b[38;5;124m'\u001b[39m: [data[\u001b[38;5;124m'\u001b[39m\u001b[38;5;124mlon\u001b[39m\u001b[38;5;124m'\u001b[39m]],\n\u001b[0;32m      9\u001b[0m         \u001b[38;5;124m'\u001b[39m\u001b[38;5;124mtemp_min\u001b[39m\u001b[38;5;124m'\u001b[39m: [data[\u001b[38;5;124m'\u001b[39m\u001b[38;5;124mtemperature\u001b[39m\u001b[38;5;124m'\u001b[39m][\u001b[38;5;124m'\u001b[39m\u001b[38;5;124mmin\u001b[39m\u001b[38;5;124m'\u001b[39m]],\n\u001b[0;32m     10\u001b[0m         \u001b[38;5;124m'\u001b[39m\u001b[38;5;124mtemp_max\u001b[39m\u001b[38;5;124m'\u001b[39m: [data[\u001b[38;5;124m'\u001b[39m\u001b[38;5;124mtemperature\u001b[39m\u001b[38;5;124m'\u001b[39m][\u001b[38;5;124m'\u001b[39m\u001b[38;5;124mmax\u001b[39m\u001b[38;5;124m'\u001b[39m]],\n\u001b[0;32m     11\u001b[0m         \u001b[38;5;124m'\u001b[39m\u001b[38;5;124mtemp_1200\u001b[39m\u001b[38;5;124m'\u001b[39m: [data[\u001b[38;5;124m'\u001b[39m\u001b[38;5;124mtemperature\u001b[39m\u001b[38;5;124m'\u001b[39m][\u001b[38;5;124m'\u001b[39m\u001b[38;5;124mafternoon\u001b[39m\u001b[38;5;124m'\u001b[39m]],\n\u001b[0;32m     12\u001b[0m         \u001b[38;5;124m'\u001b[39m\u001b[38;5;124mtemp_0000\u001b[39m\u001b[38;5;124m'\u001b[39m: [data[\u001b[38;5;124m'\u001b[39m\u001b[38;5;124mtemperature\u001b[39m\u001b[38;5;124m'\u001b[39m][\u001b[38;5;124m'\u001b[39m\u001b[38;5;124mnight\u001b[39m\u001b[38;5;124m'\u001b[39m]],\n\u001b[0;32m     13\u001b[0m         \u001b[38;5;124m'\u001b[39m\u001b[38;5;124mtemp_1800\u001b[39m\u001b[38;5;124m'\u001b[39m: [data[\u001b[38;5;124m'\u001b[39m\u001b[38;5;124mtemperature\u001b[39m\u001b[38;5;124m'\u001b[39m][\u001b[38;5;124m'\u001b[39m\u001b[38;5;124mevening\u001b[39m\u001b[38;5;124m'\u001b[39m]],\n\u001b[0;32m     14\u001b[0m         \u001b[38;5;124m'\u001b[39m\u001b[38;5;124mtemp_0600\u001b[39m\u001b[38;5;124m'\u001b[39m: [data[\u001b[38;5;124m'\u001b[39m\u001b[38;5;124mtemperature\u001b[39m\u001b[38;5;124m'\u001b[39m][\u001b[38;5;124m'\u001b[39m\u001b[38;5;124mmorning\u001b[39m\u001b[38;5;124m'\u001b[39m]],\n\u001b[0;32m     15\u001b[0m         \u001b[38;5;124m'\u001b[39m\u001b[38;5;124mcloud_cover\u001b[39m\u001b[38;5;124m'\u001b[39m: [data[\u001b[38;5;124m'\u001b[39m\u001b[38;5;124mcloud_cover\u001b[39m\u001b[38;5;124m'\u001b[39m][\u001b[38;5;124m'\u001b[39m\u001b[38;5;124mafternoon\u001b[39m\u001b[38;5;124m'\u001b[39m]],\n\u001b[0;32m     16\u001b[0m         \u001b[38;5;124m'\u001b[39m\u001b[38;5;124mhumidity\u001b[39m\u001b[38;5;124m'\u001b[39m: [data[\u001b[38;5;124m'\u001b[39m\u001b[38;5;124mhumidity\u001b[39m\u001b[38;5;124m'\u001b[39m][\u001b[38;5;124m'\u001b[39m\u001b[38;5;124mafternoon\u001b[39m\u001b[38;5;124m'\u001b[39m]],\n\u001b[0;32m     17\u001b[0m         \u001b[38;5;124m'\u001b[39m\u001b[38;5;124mprecipitation_tot\u001b[39m\u001b[38;5;124m'\u001b[39m: [data[\u001b[38;5;124m'\u001b[39m\u001b[38;5;124mprecipitation\u001b[39m\u001b[38;5;124m'\u001b[39m][\u001b[38;5;124m'\u001b[39m\u001b[38;5;124mtotal\u001b[39m\u001b[38;5;124m'\u001b[39m]],\n\u001b[0;32m     18\u001b[0m         \u001b[38;5;124m'\u001b[39m\u001b[38;5;124mpressure\u001b[39m\u001b[38;5;124m'\u001b[39m: [data[\u001b[38;5;124m'\u001b[39m\u001b[38;5;124mpressure\u001b[39m\u001b[38;5;124m'\u001b[39m][\u001b[38;5;124m'\u001b[39m\u001b[38;5;124mafternoon\u001b[39m\u001b[38;5;124m'\u001b[39m]],\n\u001b[0;32m     19\u001b[0m         \u001b[38;5;124m'\u001b[39m\u001b[38;5;124mwind_max_speed\u001b[39m\u001b[38;5;124m'\u001b[39m: [data[\u001b[38;5;124m'\u001b[39m\u001b[38;5;124mwind\u001b[39m\u001b[38;5;124m'\u001b[39m][\u001b[38;5;124m'\u001b[39m\u001b[38;5;124mmax\u001b[39m\u001b[38;5;124m'\u001b[39m][\u001b[38;5;124m'\u001b[39m\u001b[38;5;124mspeed\u001b[39m\u001b[38;5;124m'\u001b[39m]],\n\u001b[0;32m     20\u001b[0m         \u001b[38;5;124m'\u001b[39m\u001b[38;5;124mwind_direction\u001b[39m\u001b[38;5;124m'\u001b[39m: [data[\u001b[38;5;124m'\u001b[39m\u001b[38;5;124mwind\u001b[39m\u001b[38;5;124m'\u001b[39m][\u001b[38;5;124m'\u001b[39m\u001b[38;5;124mmax\u001b[39m\u001b[38;5;124m'\u001b[39m][\u001b[38;5;124m'\u001b[39m\u001b[38;5;124mdirection\u001b[39m\u001b[38;5;124m'\u001b[39m]],\n\u001b[0;32m     21\u001b[0m     })\n",
      "\u001b[1;31mKeyError\u001b[0m: 'date'"
     ]
    }
   ],
   "source": [
    "def save_yearly_df(df: DataFrame, year: str):\n",
    "    year_df = pd.DataFrame()\n",
    "    year_df = df\n",
    "    year_df.to_csv(f'ciampino_weather_{year}.csv')\n",
    "    if df.size == year_df.size:\n",
    "        print(f'Dataframe for year {year} created. Check in \\'ciampino_weather_{year}.csv\\'')\n",
    "    else:\n",
    "        print('Something is wrong')\n",
    "    \n",
    "df = pd.DataFrame()\n",
    "df = get_info('2011-12-31', '2012-12-31', 1)\n",
    "save_yearly_df(df, '2012') "
   ]
  },
  {
   "cell_type": "code",
   "execution_count": 48,
   "metadata": {},
   "outputs": [],
   "source": [
    "import time\n",
    "\n",
    "def measure_execution_time(func, *args, **kwargs):\n",
    "    start_time = time.perf_counter()  # Start the timer\n",
    "    result = func(*args, **kwargs)    # Run the function\n",
    "    end_time = time.perf_counter()    # End the timer\n",
    "    \n",
    "    elapsed_time = end_time - start_time  # Calculate elapsed time\n",
    "    print(f\"Execution time: {elapsed_time:.6f} seconds\")\n",
    "    return result\n"
   ]
  }
 ],
 "metadata": {
  "kernelspec": {
   "display_name": "digitaltwin",
   "language": "python",
   "name": "python3"
  },
  "language_info": {
   "codemirror_mode": {
    "name": "ipython",
    "version": 3
   },
   "file_extension": ".py",
   "mimetype": "text/x-python",
   "name": "python",
   "nbconvert_exporter": "python",
   "pygments_lexer": "ipython3",
   "version": "3.13.1"
  }
 },
 "nbformat": 4,
 "nbformat_minor": 2
}
