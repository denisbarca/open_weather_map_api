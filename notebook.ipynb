{
 "cells": [
  {
   "cell_type": "markdown",
   "metadata": {},
   "source": [
    "## Open Weather Map API\n",
    "\n",
    "Purpose is to retrieve data from Open Weather Map API (https://openweathermap.org/api/one-call-3#start) for building Ciampino Digital Model and getting weather data for it."
   ]
  },
  {
   "cell_type": "markdown",
   "metadata": {},
   "source": [
    "### Setting API Key\n",
    "\n",
    "Here is reported API Key for performing calls."
   ]
  },
  {
   "cell_type": "code",
   "execution_count": 50,
   "metadata": {},
   "outputs": [],
   "source": [
    "API_KEY = '997b847a9ed5dda58598e1f0015be1e6'\n",
    "CITY = 'Ciampino,Lazio,IT'"
   ]
  },
  {
   "cell_type": "markdown",
   "metadata": {},
   "source": [
    "Then, it's used Geocoding API from Open Weather Map to retrieve latitude and longitude of inspected city, which is Ciampino.\n",
    "But first, import all necessary libraries."
   ]
  },
  {
   "cell_type": "code",
   "execution_count": 19,
   "metadata": {},
   "outputs": [],
   "source": [
    "import requests\n",
    "import datetime"
   ]
  },
  {
   "cell_type": "code",
   "execution_count": 31,
   "metadata": {},
   "outputs": [],
   "source": [
    "# Geocoding API Url\n",
    "\n",
    "def geocode_city():\n",
    "    return f'http://api.openweathermap.org/geo/1.0/direct?q={CITY}&limit=5&appid={API_KEY}'"
   ]
  },
  {
   "cell_type": "code",
   "execution_count": 32,
   "metadata": {},
   "outputs": [],
   "source": [
    "# Data retrieved from Geocoding API url and then latitude and longitude stored\n",
    "def get_city_data():\n",
    "    res = requests.get(geocode_city()).json()\n",
    "    return {'lat': res[0]['lat'], 'lon': res[0]['lon']}\n",
    "\n",
    "city_lat = get_city_data()['lat']\n",
    "city_lon = get_city_data()['lon']"
   ]
  },
  {
   "cell_type": "markdown",
   "metadata": {},
   "source": [
    "Now it's possible to make first call with Open Weather Map API for weather."
   ]
  },
  {
   "cell_type": "code",
   "execution_count": null,
   "metadata": {},
   "outputs": [],
   "source": [
    "def get_weather_data(url):\n",
    "    return requests.get(url).json()"
   ]
  },
  {
   "cell_type": "code",
   "execution_count": 46,
   "metadata": {},
   "outputs": [
    {
     "name": "stdout",
     "output_type": "stream",
     "text": [
      "{'coord': {'lon': 12.6005, 'lat': 41.8003}, 'weather': [{'id': 800, 'main': 'Clear', 'description': 'clear sky', 'icon': '01n'}], 'base': 'stations', 'main': {'temp': 10.16, 'feels_like': 8.88, 'temp_min': 7.25, 'temp_max': 11.22, 'pressure': 1027, 'humidity': 63, 'sea_level': 1027, 'grnd_level': 1009}, 'visibility': 10000, 'wind': {'speed': 3.09, 'deg': 70}, 'clouds': {'all': 0}, 'dt': 1735325591, 'sys': {'type': 1, 'id': 6792, 'country': 'IT', 'sunrise': 1735281365, 'sunset': 1735314316}, 'timezone': 3600, 'id': 3178738, 'name': 'Ciampino', 'cod': 200}\n"
     ]
    }
   ],
   "source": [
    "# API for Current Weather Data ONLY!\n",
    "url_curr_weather_api = f'https://api.openweathermap.org/data/2.5/weather?lat={city_lat}&lon={city_lon}&&appid={API_KEY}&units=metric'\n",
    "print(get_weather_data(url_curr_weather_api))"
   ]
  },
  {
   "cell_type": "code",
   "execution_count": 47,
   "metadata": {},
   "outputs": [],
   "source": [
    "# Re-elaborate data from API response for setting correct date (not Unix timestamps)\n",
    "def set_date(url):\n",
    "    data = get_weather_data(url)\n",
    "    data['dt'] = datetime.fromtimestamp(data['dt']).strftime('%Y-%m-%d %H:%M:%S')\n",
    "    data['sys']['sunrise'] = datetime.fromtimestamp(data['sys']['sunrise']).strftime('%Y-%m-%d %H:%M:%S')\n",
    "    data['sys']['sunset'] = datetime.fromtimestamp(data['sys']['sunset']).strftime('%Y-%m-%d %H:%M:%S')\n",
    "    return data"
   ]
  },
  {
   "cell_type": "code",
   "execution_count": 48,
   "metadata": {},
   "outputs": [
    {
     "name": "stdout",
     "output_type": "stream",
     "text": [
      "{'coord': {'lon': 12.6005, 'lat': 41.8003}, 'weather': [{'id': 800, 'main': 'Clear', 'description': 'clear sky', 'icon': '01n'}], 'base': 'stations', 'main': {'temp': 10.16, 'feels_like': 8.88, 'temp_min': 7.25, 'temp_max': 11.22, 'pressure': 1027, 'humidity': 63, 'sea_level': 1027, 'grnd_level': 1009}, 'visibility': 10000, 'wind': {'speed': 3.09, 'deg': 70}, 'clouds': {'all': 0}, 'dt': '2024-12-27 19:53:11', 'sys': {'type': 1, 'id': 6792, 'country': 'IT', 'sunrise': '2024-12-27 07:36:05', 'sunset': '2024-12-27 16:45:16'}, 'timezone': 3600, 'id': 3178738, 'name': 'Ciampino', 'cod': 200}\n"
     ]
    }
   ],
   "source": [
    "print(set_date(url_curr_weather_api))"
   ]
  },
  {
   "cell_type": "code",
   "execution_count": 52,
   "metadata": {},
   "outputs": [
    {
     "data": {
      "text/plain": [
       "{'cod': 401,\n",
       " 'message': 'Please note that using One Call 3.0 requires a separate subscription to the One Call by Call plan. Learn more here https://openweathermap.org/price. If you have a valid subscription to the One Call by Call plan, but still receive this error, then please see https://openweathermap.org/faq#error401 for more info.'}"
      ]
     },
     "execution_count": 52,
     "metadata": {},
     "output_type": "execute_result"
    }
   ],
   "source": [
    "url_data_wea = f'https://api.openweathermap.org/data/3.0/onecall?lat={city_lat}&lon={city_lon}&appid={API_KEY}'\n",
    "rrr = get_weather_data(url_data_wea)\n",
    "rrr\n",
    "# to continue -> see open weather map api email"
   ]
  }
 ],
 "metadata": {
  "kernelspec": {
   "display_name": "digitaltwin",
   "language": "python",
   "name": "python3"
  },
  "language_info": {
   "codemirror_mode": {
    "name": "ipython",
    "version": 3
   },
   "file_extension": ".py",
   "mimetype": "text/x-python",
   "name": "python",
   "nbconvert_exporter": "python",
   "pygments_lexer": "ipython3",
   "version": "3.13.1"
  }
 },
 "nbformat": 4,
 "nbformat_minor": 2
}
